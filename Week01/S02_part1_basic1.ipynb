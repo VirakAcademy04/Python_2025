{
 "cells": [
  {
   "cell_type": "markdown",
   "metadata": {},
   "source": [
    "### Session02 (Basics)"
   ]
  },
  {
   "cell_type": "markdown",
   "metadata": {},
   "source": [
    "#### Casting"
   ]
  },
  {
   "cell_type": "code",
   "execution_count": 7,
   "metadata": {},
   "outputs": [
    {
     "name": "stdout",
     "output_type": "stream",
     "text": [
      "12\n",
      "0 1\n",
      "151\n"
     ]
    },
    {
     "ename": "ValueError",
     "evalue": "invalid literal for int() with base 10: '12.9'",
     "output_type": "error",
     "traceback": [
      "\u001b[0;31m---------------------------------------------------------------------------\u001b[0m",
      "\u001b[0;31mValueError\u001b[0m                                Traceback (most recent call last)",
      "Cell \u001b[0;32mIn[7], line 16\u001b[0m\n\u001b[1;32m     14\u001b[0m name \u001b[38;5;241m=\u001b[39m \u001b[38;5;124m\"\u001b[39m\u001b[38;5;124mp1\u001b[39m\u001b[38;5;124m\"\u001b[39m\n\u001b[1;32m     15\u001b[0m number1 \u001b[38;5;241m=\u001b[39m \u001b[38;5;124m\"\u001b[39m\u001b[38;5;124m12.9\u001b[39m\u001b[38;5;124m\"\u001b[39m\n\u001b[0;32m---> 16\u001b[0m \u001b[38;5;28mprint\u001b[39m(\u001b[38;5;28;43mint\u001b[39;49m\u001b[43m(\u001b[49m\u001b[43mnumber1\u001b[49m\u001b[43m)\u001b[49m)\n",
      "\u001b[0;31mValueError\u001b[0m: invalid literal for int() with base 10: '12.9'"
     ]
    }
   ],
   "source": [
    "# int()\n",
    "# float ------> int\n",
    "number1 = 12.999\n",
    "number1 = int(number1)\n",
    "print(number1)\n",
    "# bool -------> int\n",
    "flag1 = False \n",
    "flag2 = True\n",
    "print(int(flag1), int(flag2))\n",
    "# str ------> int \n",
    "number1 = \"123\"\n",
    "number2 = '28'\n",
    "print(int(number1) + int(number2))\n",
    "name = \"p1\"\n",
    "number1 = \"12.9\"\n",
    "print(int(number1))"
   ]
  },
  {
   "cell_type": "code",
   "execution_count": 11,
   "metadata": {},
   "outputs": [
    {
     "name": "stdout",
     "output_type": "stream",
     "text": [
      "12.0\n",
      "0.0 1.0\n",
      "12.0\n",
      "18.5\n"
     ]
    }
   ],
   "source": [
    "# float()\n",
    "# int -------> float\n",
    "number1 = 12\n",
    "print(float(number1))\n",
    "# bool ------> float \n",
    "flag1 = False\n",
    "flag2 = True\n",
    "print(float(flag1), float(flag2))\n",
    "# str ------> float\n",
    "number1 = \"12\"\n",
    "print(float(number1))\n",
    "number2 = \"18.5\"\n",
    "print(float(number2))"
   ]
  },
  {
   "cell_type": "code",
   "execution_count": 12,
   "metadata": {},
   "outputs": [
    {
     "name": "stdout",
     "output_type": "stream",
     "text": [
      "12.9\n",
      "12\n"
     ]
    }
   ],
   "source": [
    "number1 = \"12.9\"\n",
    "number1 = float(number1)\n",
    "print(number1)\n",
    "print(int(number1))"
   ]
  },
  {
   "cell_type": "code",
   "execution_count": 14,
   "metadata": {},
   "outputs": [
    {
     "name": "stdout",
     "output_type": "stream",
     "text": [
      "12\n"
     ]
    }
   ],
   "source": [
    "number1 = \"12.9\"\n",
    "print(int(float(number1)))"
   ]
  },
  {
   "cell_type": "code",
   "execution_count": 15,
   "metadata": {},
   "outputs": [
    {
     "ename": "ValueError",
     "evalue": "could not convert string to float: '1a'",
     "output_type": "error",
     "traceback": [
      "\u001b[0;31m---------------------------------------------------------------------------\u001b[0m",
      "\u001b[0;31mValueError\u001b[0m                                Traceback (most recent call last)",
      "Cell \u001b[0;32mIn[15], line 2\u001b[0m\n\u001b[1;32m      1\u001b[0m number1 \u001b[38;5;241m=\u001b[39m \u001b[38;5;124m\"\u001b[39m\u001b[38;5;124m1a\u001b[39m\u001b[38;5;124m\"\u001b[39m\n\u001b[0;32m----> 2\u001b[0m \u001b[38;5;28mprint\u001b[39m(\u001b[38;5;28;43mfloat\u001b[39;49m\u001b[43m(\u001b[49m\u001b[43mnumber1\u001b[49m\u001b[43m)\u001b[49m)\n",
      "\u001b[0;31mValueError\u001b[0m: could not convert string to float: '1a'"
     ]
    }
   ],
   "source": [
    "number1 = \"1a\"\n",
    "print(float(number1))"
   ]
  },
  {
   "cell_type": "code",
   "execution_count": null,
   "metadata": {},
   "outputs": [
    {
     "name": "stdout",
     "output_type": "stream",
     "text": [
      "10 <class 'str'>\n",
      "18.6 <class 'str'>\n",
      "True <class 'str'>\n"
     ]
    }
   ],
   "source": [
    "# str()\n",
    "age = 10\n",
    "age = str(age)\n",
    "score = 18.6\n",
    "score = str(score)\n",
    "flag = True\n",
    "flag = str(flag)\n",
    "print(age, type(age))\n",
    "print(score, type(score))\n",
    "print(flag, type(flag))"
   ]
  },
  {
   "cell_type": "markdown",
   "metadata": {},
   "source": [
    "#### boolean"
   ]
  },
  {
   "cell_type": "code",
   "execution_count": 24,
   "metadata": {},
   "outputs": [
    {
     "name": "stdout",
     "output_type": "stream",
     "text": [
      "True True\n",
      "False\n"
     ]
    }
   ],
   "source": [
    "# bool()\n",
    "# int -------> bool\n",
    "number1 = 1200\n",
    "number2 = -10000\n",
    "print(bool(number1), bool(number2))\n",
    "number3 = 0\n",
    "print(bool(number3))"
   ]
  },
  {
   "cell_type": "code",
   "execution_count": 25,
   "metadata": {},
   "outputs": [
    {
     "name": "stdout",
     "output_type": "stream",
     "text": [
      "True True False\n"
     ]
    }
   ],
   "source": [
    "# float -----> bool\n",
    "score1 = 19.3\n",
    "score2 = 16.0\n",
    "score3 = 0.0\n",
    "print(bool(score1), bool(score2), bool(score3))"
   ]
  },
  {
   "cell_type": "code",
   "execution_count": 28,
   "metadata": {},
   "outputs": [
    {
     "name": "stdout",
     "output_type": "stream",
     "text": [
      "True True True\n",
      "False\n"
     ]
    }
   ],
   "source": [
    "# str -----> bool \n",
    "name = \"python\"\n",
    "flag = \"True\"\n",
    "flag1 = \"False\"\n",
    "print(bool(name), bool(flag), bool(flag1))\n",
    "str1 = \"\"\n",
    "print(bool(str1))"
   ]
  },
  {
   "cell_type": "code",
   "execution_count": null,
   "metadata": {},
   "outputs": [
    {
     "name": "stdout",
     "output_type": "stream",
     "text": [
      "java\n"
     ]
    }
   ],
   "source": [
    "var1 = 0.0 or 0 or \"\" or \"java\"\n",
    "print(var1)\n"
   ]
  },
  {
   "cell_type": "code",
   "execution_count": 34,
   "metadata": {},
   "outputs": [
    {
     "name": "stdout",
     "output_type": "stream",
     "text": [
      "Guest\n"
     ]
    }
   ],
   "source": [
    "name = input(\"enter your name: \")\n",
    "name = name or \"Guest\"\n",
    "print(name)"
   ]
  },
  {
   "cell_type": "code",
   "execution_count": 36,
   "metadata": {},
   "outputs": [
    {
     "name": "stdout",
     "output_type": "stream",
     "text": [
      "blue\n"
     ]
    }
   ],
   "source": [
    "color = input(\"enter your color: \") or \"black\"\n",
    "print(color)"
   ]
  }
 ],
 "metadata": {
  "kernelspec": {
   "display_name": "Python 3",
   "language": "python",
   "name": "python3"
  },
  "language_info": {
   "codemirror_mode": {
    "name": "ipython",
    "version": 3
   },
   "file_extension": ".py",
   "mimetype": "text/x-python",
   "name": "python",
   "nbconvert_exporter": "python",
   "pygments_lexer": "ipython3",
   "version": "3.11.8"
  }
 },
 "nbformat": 4,
 "nbformat_minor": 2
}
