{
 "cells": [
  {
   "cell_type": "markdown",
   "metadata": {},
   "source": [
    "### Session02 (String)"
   ]
  },
  {
   "cell_type": "code",
   "execution_count": 17,
   "metadata": {},
   "outputs": [
    {
     "name": "stdout",
     "output_type": "stream",
     "text": [
      "python  \n",
      "8\n"
     ]
    }
   ],
   "source": [
    "# \"\", '' \n",
    "name = \"python  \"\n",
    "print(name)\n",
    "print(len(name))"
   ]
  },
  {
   "cell_type": "code",
   "execution_count": 20,
   "metadata": {},
   "outputs": [
    {
     "name": "stdout",
     "output_type": "stream",
     "text": [
      "Python is simple and greal. \n",
      "I am learning python\n"
     ]
    }
   ],
   "source": [
    "text = \"\"\"Python is simple and greal. \n",
    "I am learning python\"\"\"\n",
    "print(text)"
   ]
  },
  {
   "cell_type": "markdown",
   "metadata": {},
   "source": [
    "#### String Indexing"
   ]
  },
  {
   "cell_type": "code",
   "execution_count": 22,
   "metadata": {},
   "outputs": [
    {
     "name": "stdout",
     "output_type": "stream",
     "text": [
      "I\n",
      "a\n"
     ]
    }
   ],
   "source": [
    "text = \"I am learning python!\"\n",
    "# index 0123456789\n",
    "print(text[0])\n",
    "print(text[2])"
   ]
  },
  {
   "cell_type": "code",
   "execution_count": 24,
   "metadata": {},
   "outputs": [
    {
     "name": "stdout",
     "output_type": "stream",
     "text": [
      "o\n"
     ]
    }
   ],
   "source": [
    "text2 = \"python\"\n",
    "#index   012345\n",
    "#index   -4-3-2-1 \n",
    "print(text2[-2])"
   ]
  },
  {
   "cell_type": "markdown",
   "metadata": {},
   "source": [
    "#### Slicing"
   ]
  },
  {
   "cell_type": "code",
   "execution_count": null,
   "metadata": {},
   "outputs": [],
   "source": [
    "# start ====> default value: 0\n",
    "# stop ====> default value: end of the str\n",
    "# step ====> default value: 1"
   ]
  },
  {
   "cell_type": "code",
   "execution_count": null,
   "metadata": {},
   "outputs": [
    {
     "name": "stdout",
     "output_type": "stream",
     "text": [
      "am\n",
      "Imengyo\n"
     ]
    }
   ],
   "source": [
    "text = \"I am learning python!\"\n",
    "# index 0123456789\n",
    "sub_str1 = text[2:4]\n",
    "sub_str2 = text[::3] #0, 0+3 = 3, 3+3, 6+3 , 9\n",
    "print(sub_str1)\n",
    "print(sub_str2)"
   ]
  },
  {
   "cell_type": "code",
   "execution_count": 30,
   "metadata": {},
   "outputs": [
    {
     "name": "stdout",
     "output_type": "stream",
     "text": [
      "!nohtyp gninrael ma I\n"
     ]
    }
   ],
   "source": [
    "text = \"I am learning python!\"\n",
    "text = text[::-1]\n",
    "print(text)"
   ]
  },
  {
   "cell_type": "markdown",
   "metadata": {},
   "source": [
    "#### Search"
   ]
  },
  {
   "cell_type": "code",
   "execution_count": 33,
   "metadata": {},
   "outputs": [
    {
     "name": "stdout",
     "output_type": "stream",
     "text": [
      "True\n",
      "False\n",
      "True\n"
     ]
    }
   ],
   "source": [
    "text = \"I am learning python!\"\n",
    "# in, not in \n",
    "print(\"python\" in text)\n",
    "print(\"Python\" in text)\n",
    "print(\"Python\" not in text)"
   ]
  },
  {
   "cell_type": "markdown",
   "metadata": {},
   "source": [
    "#### String methods"
   ]
  },
  {
   "cell_type": "code",
   "execution_count": 37,
   "metadata": {},
   "outputs": [
    {
     "name": "stdout",
     "output_type": "stream",
     "text": [
      "I Am Learning Python!\n"
     ]
    }
   ],
   "source": [
    "text = \"I am learning python!\"\n",
    "text = text.upper()\n",
    "text = text.lower()\n",
    "text = text.title()\n",
    "print(text)"
   ]
  },
  {
   "cell_type": "code",
   "execution_count": 65,
   "metadata": {},
   "outputs": [
    {
     "name": "stdout",
     "output_type": "stream",
     "text": [
      "14 19\n",
      "-1\n"
     ]
    }
   ],
   "source": [
    "text = \"I am learning python!\"\n",
    "index1 = text.find(\"python\")\n",
    "index2 = text.rfind(\"n\")\n",
    "print(index1, index2)\n",
    "index3 = text.find(\"w\")\n",
    "print(index3)"
   ]
  },
  {
   "cell_type": "code",
   "execution_count": 46,
   "metadata": {},
   "outputs": [
    {
     "name": "stdout",
     "output_type": "stream",
     "text": [
      "!\n"
     ]
    }
   ],
   "source": [
    "print(text[index3])"
   ]
  },
  {
   "cell_type": "code",
   "execution_count": 45,
   "metadata": {},
   "outputs": [
    {
     "name": "stdout",
     "output_type": "stream",
     "text": [
      "9 19\n"
     ]
    },
    {
     "ename": "ValueError",
     "evalue": "substring not found",
     "output_type": "error",
     "traceback": [
      "\u001b[0;31m---------------------------------------------------------------------------\u001b[0m",
      "\u001b[0;31mValueError\u001b[0m                                Traceback (most recent call last)",
      "Cell \u001b[0;32mIn[45], line 5\u001b[0m\n\u001b[1;32m      3\u001b[0m index2 \u001b[38;5;241m=\u001b[39m text\u001b[38;5;241m.\u001b[39mrindex(\u001b[38;5;124m\"\u001b[39m\u001b[38;5;124mn\u001b[39m\u001b[38;5;124m\"\u001b[39m)\n\u001b[1;32m      4\u001b[0m \u001b[38;5;28mprint\u001b[39m(index1, index2)\n\u001b[0;32m----> 5\u001b[0m index3 \u001b[38;5;241m=\u001b[39m \u001b[43mtext\u001b[49m\u001b[38;5;241;43m.\u001b[39;49m\u001b[43mindex\u001b[49m\u001b[43m(\u001b[49m\u001b[38;5;124;43m\"\u001b[39;49m\u001b[38;5;124;43mw\u001b[39;49m\u001b[38;5;124;43m\"\u001b[39;49m\u001b[43m)\u001b[49m\n\u001b[1;32m      6\u001b[0m \u001b[38;5;28mprint\u001b[39m(index3)\n",
      "\u001b[0;31mValueError\u001b[0m: substring not found"
     ]
    }
   ],
   "source": [
    "text = \"I am learning python!\"\n",
    "index1 = text.index(\"n\")\n",
    "index2 = text.rindex(\"n\")\n",
    "print(index1, index2)\n",
    "index3 = text.index(\"w\")\n",
    "print(index3)"
   ]
  },
  {
   "cell_type": "code",
   "execution_count": 48,
   "metadata": {},
   "outputs": [
    {
     "name": "stdout",
     "output_type": "stream",
     "text": [
      "I like java. I am learning java! I like python. I am learning python!\n"
     ]
    }
   ],
   "source": [
    "text = \"I like python. I am learning python!\"\n",
    "new_text = text.replace(\"python\", \"java\")\n",
    "print(new_text, text)"
   ]
  },
  {
   "cell_type": "code",
   "execution_count": 51,
   "metadata": {},
   "outputs": [
    {
     "name": "stdout",
     "output_type": "stream",
     "text": [
      "0\n"
     ]
    }
   ],
   "source": [
    "text = \"I like python. I am learning python!\"\n",
    "count1 = text.count(\"w\")\n",
    "print(count1)"
   ]
  },
  {
   "cell_type": "code",
   "execution_count": 55,
   "metadata": {},
   "outputs": [
    {
     "name": "stdout",
     "output_type": "stream",
     "text": [
      "False\n"
     ]
    }
   ],
   "source": [
    "file1 = \"S1.pdf\"\n",
    "file2 = \"H2.py\"\n",
    "flag1 = file2.endswith(\".pdf\")\n",
    "flag2 = file1.startswith(\"H\")\n",
    "print(flag2)"
   ]
  },
  {
   "cell_type": "code",
   "execution_count": 57,
   "metadata": {},
   "outputs": [],
   "source": [
    "var1 = 10\n",
    "var1 = 20\n",
    "scores = [19, 20, 10]"
   ]
  },
  {
   "cell_type": "code",
   "execution_count": 58,
   "metadata": {},
   "outputs": [
    {
     "name": "stdout",
     "output_type": "stream",
     "text": [
      "['I like ', '. I am learning ', '!']\n"
     ]
    }
   ],
   "source": [
    "text = \"I like python. I am learning python!\"\n",
    "result = text.split(\"python\")\n",
    "print(result)"
   ]
  },
  {
   "cell_type": "code",
   "execution_count": 61,
   "metadata": {},
   "outputs": [
    {
     "name": "stdout",
     "output_type": "stream",
     "text": [
      "I like . I am learning !\n"
     ]
    }
   ],
   "source": [
    "list1 = ['I like ', '. I am learning ', '!']\n",
    "# join ====> list1, str\n",
    "result = \"\".join(list1)\n",
    "print(result)"
   ]
  },
  {
   "cell_type": "code",
   "execution_count": 63,
   "metadata": {},
   "outputs": [
    {
     "name": "stdout",
     "output_type": "stream",
     "text": [
      "12\n",
      "8\n"
     ]
    }
   ],
   "source": [
    "text = \"  python 3  \"\n",
    "print(len(text))\n",
    "text = text.strip()\n",
    "print(len(text))"
   ]
  },
  {
   "cell_type": "markdown",
   "metadata": {},
   "source": [
    "##### Escape Characters"
   ]
  },
  {
   "cell_type": "code",
   "execution_count": 74,
   "metadata": {},
   "outputs": [
    {
     "name": "stdout",
     "output_type": "stream",
     "text": [
      "I like\tpython.\n",
      "I am\\learning 'python'!\n"
     ]
    }
   ],
   "source": [
    "# \\n, \\t, \\\\, \\\", \\' \n",
    "text = \"I like\\tpython.\\nI am\\\\learning \\'python\\'!\"\n",
    "print(text)"
   ]
  },
  {
   "cell_type": "markdown",
   "metadata": {},
   "source": [
    "#### str() and repr()"
   ]
  },
  {
   "cell_type": "code",
   "execution_count": 78,
   "metadata": {},
   "outputs": [
    {
     "name": "stdout",
     "output_type": "stream",
     "text": [
      "I like\tpython.\n",
      "I am\\learning 'python'!\n",
      "10\n",
      "'10'\n",
      "\"I like\\tpython.\\nI am\\\\learning 'python'!\"\n"
     ]
    }
   ],
   "source": [
    "text = \"I like\\tpython.\\nI am\\\\learning \\'python\\'!\"\n",
    "print(str(text))\n",
    "num1 = \"10\"\n",
    "print(num1)\n",
    "print(repr(num1))\n",
    "print(repr(text))"
   ]
  },
  {
   "cell_type": "markdown",
   "metadata": {},
   "source": [
    "#### Combining Strings and Variables"
   ]
  },
  {
   "cell_type": "code",
   "execution_count": 4,
   "metadata": {},
   "outputs": [
    {
     "name": "stdout",
     "output_type": "stream",
     "text": [
      "result : 40 + 30 = 70\n",
      "result : 40 + 30 = 70\n",
      "result : 40 + 30 = 70\n"
     ]
    }
   ],
   "source": [
    "number1 = 40\n",
    "number2 = 30\n",
    "sum_numbers = number1 + number2\n",
    "# result : 40 + 30 = 70\n",
    "# result : number1 + number2 = sum_numbers\n",
    "print(\"result :\", number1, \"+\", number2, \"=\", sum_numbers)\n",
    "print(\"result : {} + {} = {}\".format(number1, number2, sum_numbers))\n",
    "print(f\"result : {number1} + {number2} = {sum_numbers}\")"
   ]
  },
  {
   "cell_type": "markdown",
   "metadata": {},
   "source": [
    "#### ASCII"
   ]
  },
  {
   "cell_type": "code",
   "execution_count": 10,
   "metadata": {},
   "outputs": [
    {
     "name": "stdout",
     "output_type": "stream",
     "text": [
      "43\n"
     ]
    }
   ],
   "source": [
    "char1 = \"+\"\n",
    "print(ord(char1))"
   ]
  },
  {
   "cell_type": "code",
   "execution_count": 11,
   "metadata": {},
   "outputs": [
    {
     "name": "stdout",
     "output_type": "stream",
     "text": [
      "A\n"
     ]
    }
   ],
   "source": [
    "print(chr(65))"
   ]
  }
 ],
 "metadata": {
  "kernelspec": {
   "display_name": "Python 3",
   "language": "python",
   "name": "python3"
  },
  "language_info": {
   "codemirror_mode": {
    "name": "ipython",
    "version": 3
   },
   "file_extension": ".py",
   "mimetype": "text/x-python",
   "name": "python",
   "nbconvert_exporter": "python",
   "pygments_lexer": "ipython3",
   "version": "3.11.8"
  }
 },
 "nbformat": 4,
 "nbformat_minor": 2
}
