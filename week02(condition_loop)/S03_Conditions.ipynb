{
 "cells": [
  {
   "cell_type": "markdown",
   "metadata": {},
   "source": [
    "### Session03 (Condition)"
   ]
  },
  {
   "cell_type": "code",
   "execution_count": null,
   "metadata": {},
   "outputs": [
    {
     "name": "stdout",
     "output_type": "stream",
     "text": [
      "30\n"
     ]
    }
   ],
   "source": [
    "number1 = int(input(\"number1: \")) #20, 40\n",
    "number2 = int(input(\"number2: \")) #10, 50\n",
    "if number1 > number2: # True, False\n",
    "    print(number1)    # done\n",
    "if number2 > number1: # False, True\n",
    "    print(number2)    # done"
   ]
  },
  {
   "cell_type": "code",
   "execution_count": 3,
   "metadata": {},
   "outputs": [
    {
     "name": "stdout",
     "output_type": "stream",
     "text": [
      "10\n",
      "end\n"
     ]
    }
   ],
   "source": [
    "number1 = int(input(\"number1: \")) # 20\n",
    "number2 = int(input(\"number2: \")) # 10\n",
    "if number1 > number2: # True\n",
    "    print(number1)    # done\n",
    "else: \n",
    "    print(number2)    \n",
    "print(\"end\")"
   ]
  },
  {
   "cell_type": "code",
   "execution_count": null,
   "metadata": {},
   "outputs": [],
   "source": [
    "# if book == \"python\": False\n",
    "#       python\n",
    "# else if book == \"c++\": False\n",
    "#       c++\n",
    "# else if book == \"Java\": True\n",
    "#       java\n",
    "# else if book == \"Mysql\":\n",
    "#       Mysql\n",
    "# else:\n",
    "#      ............."
   ]
  },
  {
   "cell_type": "code",
   "execution_count": null,
   "metadata": {},
   "outputs": [],
   "source": [
    "number1 = int(input(\"number1: \")) \n",
    "number2 = int(input(\"number2: \")) \n",
    "if number1 > number2: \n",
    "    print(number1)    \n",
    "elif number2 > number1: \n",
    "    print(number2)   \n",
    "else:\n",
    "    print(\"Equal!\") "
   ]
  },
  {
   "cell_type": "code",
   "execution_count": 4,
   "metadata": {},
   "outputs": [
    {
     "name": "stdout",
     "output_type": "stream",
     "text": [
      "Error! Your info is not correct!\n"
     ]
    }
   ],
   "source": [
    "user_name = \"user1\"\n",
    "password = \"a123\"\n",
    "new_user_name = input(\"please enter your user name: \")\n",
    "new_password = input(\"please enter your password: \")\n",
    "if user_name == new_user_name and password == new_password:\n",
    "    print(\"Login!\")\n",
    "elif user_name != new_user_name and password != new_password:\n",
    "    print(\"Error! Your info is not correct!\")\n",
    "elif password != new_password:\n",
    "    print(\"Error! Your password is not correct!\")\n",
    "else:\n",
    "    print(\"Error! Your user name is not correct!\")"
   ]
  },
  {
   "cell_type": "code",
   "execution_count": null,
   "metadata": {},
   "outputs": [],
   "source": [
    "# limit ========> score <= 20 and score >= 0\n",
    "# score<= 20 and score >= 17 =======> A++\n",
    "# score< 17 and score >= 15 =======> A+\n",
    "# score< 15 and score >= 10 =======> A\n",
    "# score< 20 and score >= 0 =======> B"
   ]
  },
  {
   "cell_type": "code",
   "execution_count": null,
   "metadata": {},
   "outputs": [
    {
     "name": "stdout",
     "output_type": "stream",
     "text": [
      "A\n"
     ]
    }
   ],
   "source": [
    "score = 10\n",
    "if not(score <= 20 and score >= 0):\n",
    "    print(\"out of range!\")\n",
    "elif score >= 17:\n",
    "    print(\"A++\")\n",
    "elif score >= 15:\n",
    "    print(\"A+\")\n",
    "elif score >= 10:\n",
    "    print(\"A\")\n",
    "else:\n",
    "    print(\"B\")"
   ]
  },
  {
   "cell_type": "code",
   "execution_count": 11,
   "metadata": {},
   "outputs": [
    {
     "name": "stdout",
     "output_type": "stream",
     "text": [
      "3400\n"
     ]
    }
   ],
   "source": [
    "price1 = 2000\n",
    "price2 = 1900\n",
    "price3 = 3400\n",
    "if price1 > price2 and price1 > price3:\n",
    "    print(price1)\n",
    "elif price2 > price1 and price2 > price3:\n",
    "    print(price2)\n",
    "else:\n",
    "    print(price3)"
   ]
  },
  {
   "cell_type": "code",
   "execution_count": 16,
   "metadata": {},
   "outputs": [
    {
     "name": "stdout",
     "output_type": "stream",
     "text": [
      "4000\n"
     ]
    }
   ],
   "source": [
    "price1 = 2000\n",
    "price2 = 4000\n",
    "price3 = 5400\n",
    "max_price = price1      #max_price = 2000, max_price = 2000\n",
    "if price2 > max_price:  # False, True, True\n",
    "    max_price = price2  # max_price = 19000, 4000\n",
    "elif price3 > max_price: # True, False\n",
    "    max_price = price3   #max_price = 3400\n",
    "\n",
    "print(max_price)"
   ]
  },
  {
   "cell_type": "code",
   "execution_count": 17,
   "metadata": {},
   "outputs": [
    {
     "name": "stdout",
     "output_type": "stream",
     "text": [
      "5400\n"
     ]
    }
   ],
   "source": [
    "price1 = 2000\n",
    "price2 = 4000\n",
    "price3 = 5400\n",
    "max_price = price1      \n",
    "if price2 > max_price:  \n",
    "    max_price = price2 \n",
    "if price3 > max_price: \n",
    "    max_price = price3   \n",
    "\n",
    "print(max_price)"
   ]
  },
  {
   "cell_type": "code",
   "execution_count": 18,
   "metadata": {},
   "outputs": [],
   "source": [
    "# FizzBazz\n",
    "# number % 2 == 0 ======> F\n",
    "# number % 3 == 0 =====> B\n",
    "# number % 2 == 0 and number % 3 == 0 ========> FB\n",
    "# else ======> number"
   ]
  },
  {
   "cell_type": "code",
   "execution_count": null,
   "metadata": {},
   "outputs": [
    {
     "name": "stdout",
     "output_type": "stream",
     "text": [
      "F\n"
     ]
    }
   ],
   "source": [
    "number = 6\n",
    "if number % 2 == 0: # True\n",
    "    print(\"F\")      # done\n",
    "elif number % 3 == 0:\n",
    "    print(\"B\")\n",
    "elif number % 2 == 0 and number % 3 == 0:\n",
    "    print(\"FB\")\n",
    "else:\n",
    "    print(number)"
   ]
  },
  {
   "cell_type": "code",
   "execution_count": 23,
   "metadata": {},
   "outputs": [
    {
     "name": "stdout",
     "output_type": "stream",
     "text": [
      "FB\n"
     ]
    }
   ],
   "source": [
    "number = 6\n",
    "if number % 2 == 0 and number % 3 == 0:\n",
    "    print(\"FB\")\n",
    "elif number % 2 == 0: \n",
    "    print(\"F\")      \n",
    "elif number % 3 == 0:\n",
    "    print(\"B\")\n",
    "else:\n",
    "    print(number)"
   ]
  }
 ],
 "metadata": {
  "kernelspec": {
   "display_name": "Python 3",
   "language": "python",
   "name": "python3"
  },
  "language_info": {
   "codemirror_mode": {
    "name": "ipython",
    "version": 3
   },
   "file_extension": ".py",
   "mimetype": "text/x-python",
   "name": "python",
   "nbconvert_exporter": "python",
   "pygments_lexer": "ipython3",
   "version": "3.11.8"
  }
 },
 "nbformat": 4,
 "nbformat_minor": 2
}
