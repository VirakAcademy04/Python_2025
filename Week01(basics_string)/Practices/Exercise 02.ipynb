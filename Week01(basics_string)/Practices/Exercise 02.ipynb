{
 "cells": [
  {
   "cell_type": "markdown",
   "id": "a59870e3",
   "metadata": {},
   "source": [
    "# Exercise 02: String"
   ]
  },
  {
   "cell_type": "markdown",
   "id": "fa5470fe",
   "metadata": {},
   "source": [
    "Write a python program that:\n",
    "- Takes a string as input from the user.\n",
    "= Displays the first, last, and middle character of the string. (If the string length is even, display either of the middle characters.)\n",
    "- Displays the lenght of the string.\n",
    "- Displays the characters from the string that are at even indexes (index 0,2,4, etc..).\n",
    "- Displays the string in revers.\n",
    "- Displays the first half and the second half of the string"
   ]
  },
  {
   "cell_type": "code",
   "execution_count": 3,
   "id": "f6f384f9",
   "metadata": {},
   "outputs": [
    {
     "name": "stdout",
     "output_type": "stream",
     "text": [
      "Your string:  Python\n",
      "First character:  P\n",
      "Middle character:  h\n",
      "Last character:  n\n"
     ]
    }
   ],
   "source": [
    "text = input(\"Enter a string: \") #python\n",
    "print(\"Your string: \",text)\n",
    "\n",
    "first_char = text[0]\n",
    "last_char = text[-1]\n",
    "middle_char = text[len(text)//2]\n",
    "\n",
    "print(\"First character: \", first_char)\n",
    "print(\"Middle character: \", middle_char)\n",
    "print(\"Last character: \", last_char)\n",
    "\n"
   ]
  },
  {
   "cell_type": "code",
   "execution_count": 4,
   "id": "d18d423e",
   "metadata": {},
   "outputs": [
    {
     "name": "stdout",
     "output_type": "stream",
     "text": [
      "Length:  6\n"
     ]
    }
   ],
   "source": [
    "length = len(text)\n",
    "print(\"Length: \",length)"
   ]
  },
  {
   "cell_type": "code",
   "execution_count": 6,
   "id": "a15369c3",
   "metadata": {},
   "outputs": [
    {
     "name": "stdout",
     "output_type": "stream",
     "text": [
      "Your text:  Python\n",
      "Characters at even indexes:  Pto\n"
     ]
    }
   ],
   "source": [
    "even_index = text[::2]\n",
    "print(\"Your text: \",text)\n",
    "print(\"Characters at even indexes: \",even_index)"
   ]
  },
  {
   "cell_type": "code",
   "execution_count": 7,
   "id": "2a5000e4",
   "metadata": {},
   "outputs": [
    {
     "name": "stdout",
     "output_type": "stream",
     "text": [
      "Reversed:  nohtyP\n"
     ]
    }
   ],
   "source": [
    "reversed_text = text[::-1]\n",
    "print(\"Reversed: \", reversed_text) "
   ]
  },
  {
   "cell_type": "code",
   "execution_count": 8,
   "id": "d6d20584",
   "metadata": {},
   "outputs": [
    {
     "name": "stdout",
     "output_type": "stream",
     "text": [
      "First half:  Pyt\n",
      "Second half:  hon\n"
     ]
    }
   ],
   "source": [
    "half = len(text) //2\n",
    "first_half = text[:half]\n",
    "second_half = text[half:]\n",
    "\n",
    "print(\"First half: \",first_half)\n",
    "print(\"Second half: \", second_half)"
   ]
  },
  {
   "cell_type": "markdown",
   "id": "fd7d1220",
   "metadata": {},
   "source": [
    "### Question02 (String)\n",
    "#### Write a Python program that takes a student ID from the user. If the ID is entirely a number, display True. Otherwise, display Flase"
   ]
  },
  {
   "cell_type": "code",
   "execution_count": 10,
   "id": "9f7001f2",
   "metadata": {},
   "outputs": [
    {
     "name": "stdout",
     "output_type": "stream",
     "text": [
      "False\n"
     ]
    }
   ],
   "source": [
    "student_id = input(\"Enter your student ID: \")\n",
    "print(student_id.isdigit())"
   ]
  },
  {
   "cell_type": "markdown",
   "id": "8eefb495",
   "metadata": {},
   "source": [
    "### Question03 (String)\n",
    "#### Write a Python program that takes a string as input from the user and removes all spaces from it, including the spaces at the beginning, end, and within the string. "
   ]
  },
  {
   "cell_type": "code",
   "execution_count": 11,
   "id": "afea10e5",
   "metadata": {},
   "outputs": [
    {
     "name": "stdout",
     "output_type": "stream",
     "text": [
      "String without spaces:  VirakAcademy\n"
     ]
    }
   ],
   "source": [
    "text = input(\"Enter a string: \")\n",
    "no_spaces = text.replace(\" \",\"\")\n",
    "print(\"String without spaces: \", no_spaces)"
   ]
  },
  {
   "cell_type": "markdown",
   "id": "efc873c6",
   "metadata": {},
   "source": [
    "### Question04 (String)\n",
    "#### Find two new methods for strings in Python that were not covered in class. Write an example to demonstrate their usage."
   ]
  },
  {
   "cell_type": "code",
   "execution_count": 12,
   "id": "873b6d88",
   "metadata": {},
   "outputs": [
    {
     "name": "stdout",
     "output_type": "stream",
     "text": [
      "Original text:  Be motivated my dear student! keep coding every day :)\n",
      "Encoded:  B2 m4t3v1t2d my d21r st5d2nt! k22p c4d3ng 2v2ry d1y :)\n"
     ]
    }
   ],
   "source": [
    "# str.maketrans() + translate()\n",
    "text = \"Be motivated my dear student! keep coding every day :)\"\n",
    "table = str.maketrans(\"aeiou\",\"12345\")\n",
    "encoded = text.translate(table)\n",
    "\n",
    "print(\"Original text: \", text)\n",
    "print(\"Encoded: \", encoded)"
   ]
  },
  {
   "cell_type": "code",
   "execution_count": 13,
   "id": "00fc5d2e",
   "metadata": {},
   "outputs": [
    {
     "name": "stdout",
     "output_type": "stream",
     "text": [
      "Your student ID:  00012\n"
     ]
    }
   ],
   "source": [
    "#zfill\n",
    "student_id = input(\"Enter your student ID: \")\n",
    "formated_id = student_id.zfill(5)\n",
    "print(\"Your student ID: \", formated_id)\n",
    "# print(f\"Your student ID:{formated_id}\")"
   ]
  },
  {
   "cell_type": "code",
   "execution_count": null,
   "id": "596e5dbe",
   "metadata": {},
   "outputs": [],
   "source": []
  }
 ],
 "metadata": {
  "language_info": {
   "name": "python"
  }
 },
 "nbformat": 4,
 "nbformat_minor": 5
}
